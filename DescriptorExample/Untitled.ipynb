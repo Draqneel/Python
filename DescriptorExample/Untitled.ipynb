{
 "cells": [
  {
   "cell_type": "code",
   "execution_count": 6,
   "metadata": {},
   "outputs": [
    {
     "name": "stdout",
     "output_type": "stream",
     "text": [
      "Don't lie2me, baby\n",
      "This is not a sсhoolboy!\n",
      "24\n"
     ]
    }
   ],
   "source": [
    "class AgeDescriptor():\n",
    "    def __init__(self):\n",
    "        self.age = 0\n",
    "    \n",
    "    def __get__(self, obj, obj_type):\n",
    "        if self.age < 18:\n",
    "            print(\"This is a sсhoolboy!\")\n",
    "        else:\n",
    "            print(\"This is not a sсhoolboy!\")\n",
    "        return self.age\n",
    "    \n",
    "    def __set__(self, obj, value):\n",
    "        if value > 18:\n",
    "            print(\"Don't lie2me, baby\")\n",
    "            self.age = value\n",
    "        else:\n",
    "            self.age = value\n",
    "\n",
    "class Human():\n",
    "    age =  AgeDescriptor()\n",
    "    \n",
    "    def __init__(self, name, age):\n",
    "        self.name = name\n",
    "        self.age = age \n",
    "\n",
    "human_1 = Human(\"Oleg\", 24)\n",
    "print(human_1.age)\n",
    "        "
   ]
  },
  {
   "cell_type": "code",
   "execution_count": null,
   "metadata": {},
   "outputs": [],
   "source": []
  }
 ],
 "metadata": {
  "kernelspec": {
   "display_name": "Python 3",
   "language": "python",
   "name": "python3"
  },
  "language_info": {
   "codemirror_mode": {
    "name": "ipython",
    "version": 3
   },
   "file_extension": ".py",
   "mimetype": "text/x-python",
   "name": "python",
   "nbconvert_exporter": "python",
   "pygments_lexer": "ipython3",
   "version": "3.7.3"
  }
 },
 "nbformat": 4,
 "nbformat_minor": 2
}
